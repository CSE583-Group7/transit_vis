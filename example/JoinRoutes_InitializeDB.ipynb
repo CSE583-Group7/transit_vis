{
 "cells": [
  {
   "cell_type": "code",
   "execution_count": 1,
   "metadata": {},
   "outputs": [],
   "source": [
    "import json\n",
    "\n",
    "import boto3\n",
    "import numpy as np\n",
    "\n",
    "import config as cfg"
   ]
  },
  {
   "cell_type": "code",
   "execution_count": 2,
   "metadata": {},
   "outputs": [],
   "source": [
    "with open('kcm_routes_exploded.geojson', 'r') as f:\n",
    "    kcm_routes = json.load(f)"
   ]
  },
  {
   "cell_type": "code",
   "execution_count": 3,
   "metadata": {},
   "outputs": [],
   "source": [
    "# Sort route data by its route label to make processing it in the next step faster\n",
    "data = kcm_routes['features']\n",
    "label_sorted = {}\n",
    "for datapoint in data:\n",
    "    k = datapoint['properties']['ROUTE_ID']\n",
    "\n",
    "    if k not in label_sorted.keys():\n",
    "        label_sorted[k] = [datapoint]\n",
    "    else:\n",
    "        label_sorted[k].append(datapoint)\n",
    "\n",
    "for key in label_sorted.keys():\n",
    "    # Open file specific to each label\n",
    "    with open(f\"sorted_labels/label_{key}.json\", \"w+\") as outfile:\n",
    "        json.dump(label_sorted[key], outfile)\n",
    "\n",
    "# Save a list of keys\n",
    "with open(\"sorted_labels/labels.json\", \"w+\") as outfile:\n",
    "    json.dump(list(label_sorted.keys()), outfile)"
   ]
  },
  {
   "cell_type": "code",
   "execution_count": 4,
   "metadata": {},
   "outputs": [],
   "source": [
    "# Matching route segments to get segments that are connected and larger than 80 meters\n",
    "feature_list = []\n",
    "isolated_list = []\n",
    "keys = []\n",
    "with open(\"sorted_labels/labels.json\", \"r\") as keyfile:\n",
    "    keys = json.load(keyfile)\n",
    "for k in keys:\n",
    "    with open(f\"sorted_labels/label_{k}.json\", \"r\") as f:\n",
    "        data = json.load(f)\n",
    "        i = 0\n",
    "        isolated_segments = []\n",
    "        while i < len(data):\n",
    "            if data[i]['properties']['SEG_LENGTH'] > 100:\n",
    "                i += 1\n",
    "                continue\n",
    "            segment = data.pop(i)\n",
    "            start = segment['geometry']['coordinates'][0]\n",
    "            end = segment['geometry']['coordinates'][-1]\n",
    "            flag = False\n",
    "            for j in range(0, len(data)):\n",
    "                seg2 = data[j]\n",
    "                if end == seg2['geometry']['coordinates'][0]:\n",
    "                    seg2['geometry']['coordinates'].append(segment['geometry']['coordinates'][0])\n",
    "                    seg2['properties']['SEG_LENGTH'] += segment['properties']['SEG_LENGTH']\n",
    "                    flag = True\n",
    "                    break\n",
    "                elif start == seg2['geometry']['coordinates'][-1]:\n",
    "                    seg2['geometry']['coordinates'].append(segment['geometry']['coordinates'][-1])\n",
    "                    seg2['properties']['SEG_LENGTH'] += segment['properties']['SEG_LENGTH']\n",
    "                    flag = True\n",
    "                    break\n",
    "            if not flag:\n",
    "                isolated_segments.append(segment)\n",
    "        feature_list.extend(data)\n",
    "        isolated_list.extend(isolated_segments)"
   ]
  },
  {
   "cell_type": "code",
   "execution_count": 5,
   "metadata": {},
   "outputs": [],
   "source": [
    "# Add the features back to the kcm dataset, to replace the exploded route segments and write to file\n",
    "kcm_routes['features'] = feature_list\n",
    "with open('kcm_routes_exploded_modified.geojson', 'w+') as f:\n",
    "    json.dump(kcm_routes, f)"
   ]
  },
  {
   "cell_type": "code",
   "execution_count": 6,
   "metadata": {},
   "outputs": [
    {
     "name": "stdout",
     "output_type": "stream",
     "text": [
      "77223 features in data\n"
     ]
    }
   ],
   "source": [
    "with open('kcm_routes_exploded_modified.geojson', 'r') as f:\n",
    "    kcm_routes = json.load(f)\n",
    "\n",
    "# Function that iterates through an obj containing nested dicts and lists to replace all floats with strings\n",
    "# This is necessary because Dynamodb does not support float values\n",
    "def replace_floats(obj):\n",
    "    if isinstance(obj, list):\n",
    "        for i in range(0,len(obj)):\n",
    "            obj[i] = replace_floats(obj[i])\n",
    "        return obj\n",
    "    elif isinstance(obj, dict):\n",
    "        for k in obj.keys():\n",
    "            obj[k] = replace_floats(obj[k])\n",
    "        return obj\n",
    "    elif isinstance(obj, float):\n",
    "        if obj % 1 == 0:\n",
    "            return int(obj)\n",
    "        else:\n",
    "            return str(obj)\n",
    "    else:\n",
    "        return obj\n",
    "\n",
    "# Turn all float values (coordinates mostly) into strings in the routes geojson\n",
    "kcm_routes_stringified = replace_floats(kcm_routes)\n",
    "\n",
    "# Check number of features in the dataset\n",
    "print(f\"{len(kcm_routes_stringified['features'])} features in data\")\n",
    "\n",
    "# Add the local express to the route id to create unique key for each segment (dynamodb only can have a 2-composite key)\n",
    "for feature in kcm_routes['features']:\n",
    "    feature['route_id'] = feature['properties']['ROUTE_ID']\n",
    "    feature['segment_id'] = feature['properties']['SEG_ID']\n",
    "    if feature['properties']['LOCAL_EXPR']:\n",
    "        feature['route_id'] = int(str(feature['route_id']) + str(0))\n",
    "    else:\n",
    "        feature['route_id'] = int(str(feature['route_id']) + str(1))"
   ]
  },
  {
   "cell_type": "code",
   "execution_count": 9,
   "metadata": {},
   "outputs": [],
   "source": [
    "# Set up the connection to the Dynamodb database\n",
    "dynamodb = boto3.resource('dynamodb',\n",
    "                         region_name=cfg.REGION,\n",
    "                         aws_access_key_id = cfg.ACCESS_ID,\n",
    "                         aws_secret_access_key = cfg.ACCESS_KEY\n",
    "                         )"
   ]
  },
  {
   "cell_type": "code",
   "execution_count": 10,
   "metadata": {},
   "outputs": [
    {
     "name": "stdout",
     "output_type": "stream",
     "text": [
      "0\n"
     ]
    }
   ],
   "source": [
    "# Create table with one key on the route_id for each route\n",
    "# The rest of the table structure can be open, only required values on insert are keys\n",
    "table = dynamodb.create_table(TableName='KCM_Bus_Routes_Modified',\n",
    "                            KeySchema=[\n",
    "                                {\n",
    "                                    'AttributeName': 'route_id',\n",
    "                                    'KeyType': 'HASH'\n",
    "                                },\n",
    "                                {\n",
    "                                    'AttributeName': 'segment_id',\n",
    "                                    'KeyType': 'RANGE'\n",
    "                                }\n",
    "                            ],\n",
    "                            AttributeDefinitions=[\n",
    "                                {\n",
    "                                    'AttributeName': 'route_id',\n",
    "                                    'AttributeType': 'N'\n",
    "                                },\n",
    "                                {\n",
    "                                    'AttributeName': 'segment_id',\n",
    "                                    'AttributeType': 'N'\n",
    "                                }\n",
    "                            ],\n",
    "                            ProvisionedThroughput={\n",
    "                                'ReadCapacityUnits': 20,\n",
    "                                'WriteCapacityUnits': 20\n",
    "                            }\n",
    "                     )\n",
    "\n",
    "# Wait until the table exists.\n",
    "table.meta.client.get_waiter('table_exists').wait(TableName='KCM_Bus_Routes_Modified')\n",
    "\n",
    "# Check that 0 items are in the table\n",
    "print(table.item_count)"
   ]
  },
  {
   "cell_type": "code",
   "execution_count": 11,
   "metadata": {},
   "outputs": [],
   "source": [
    "# Takes about 1hr to do 70,000 features; capacity constrained to stay in AWS free-tier\n",
    "with table.batch_writer() as batch:\n",
    "    for route in kcm_routes['features']:\n",
    "        batch.put_item(Item={\n",
    "            'route_id': route['route_id'],\n",
    "            'segment_id': route['segment_id'],\n",
    "            'local_express_code': route['properties']['LOCAL_EXPR'],\n",
    "            'historic_speeds': []\n",
    "        })"
   ]
  }
 ],
 "metadata": {
  "kernelspec": {
   "display_name": "Python 3",
   "language": "python",
   "name": "python3"
  },
  "language_info": {
   "codemirror_mode": {
    "name": "ipython",
    "version": 3
   },
   "file_extension": ".py",
   "mimetype": "text/x-python",
   "name": "python",
   "nbconvert_exporter": "python",
   "pygments_lexer": "ipython3",
   "version": "3.8.3"
  }
 },
 "nbformat": 4,
 "nbformat_minor": 4
}
