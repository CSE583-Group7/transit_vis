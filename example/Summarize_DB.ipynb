{
 "cells": [
  {
   "cell_type": "code",
   "execution_count": 6,
   "metadata": {},
   "outputs": [],
   "source": [
    "from datetime import datetime\n",
    "import decimal\n",
    "import json\n",
    "import requests\n",
    "from zipfile import ZipFile\n",
    "\n",
    "import boto3\n",
    "import numpy as np\n",
    "import psycopg2\n",
    "import pandas as pd\n",
    "from sklearn.neighbors import BallTree\n",
    "\n",
    "import config as cfg"
   ]
  },
  {
   "cell_type": "code",
   "execution_count": 7,
   "metadata": {},
   "outputs": [],
   "source": [
    "with open('kcm_routes_exploded_modified.geojson', 'r') as f:\n",
    "    kcm_routes = json.load(f)\n",
    "\n",
    "# Add the local express to the route id to create unique key for each segment (dynamodb only can have a 2-composite key)\n",
    "for feature in kcm_routes['features']:\n",
    "    feature['route_id'] = feature['properties']['ROUTE_ID']\n",
    "    feature['segment_id'] = int(feature['properties']['SEG_ID'])\n",
    "    if feature['properties']['LOCAL_EXPR'] == 'L':\n",
    "        feature['route_id'] = int(str(feature['route_id']) + str(0))\n",
    "    else:\n",
    "        feature['route_id'] = int(str(feature['route_id']) + str(1))"
   ]
  },
  {
   "cell_type": "code",
   "execution_count": 8,
   "metadata": {},
   "outputs": [],
   "source": [
    "# Get time\n",
    "end_time = round(datetime.now().timestamp())\n",
    "start_time = end_time - (24*60*60)\n",
    "\n",
    "# Query the last 24 hours of data from the RDS database\n",
    "# conn = psycopg2.connect(\n",
    "#     host=cfg.HOST,\n",
    "#     database=cfg.DATABASE,\n",
    "#     user=cfg.UID,\n",
    "#     password=cfg.PWD)\n",
    "\n",
    "# data = query_table(conn, ...)\n",
    "#query_text = paste0('SELECT * \n",
    "#                  FROM active_trips_study \n",
    "#                  WHERE collectedtime \n",
    "#                  BETWEEN ', start_time, ' AND ', end_time,';')\n",
    "daily_results = pd.read_csv(\"10_25_2020.csv\")"
   ]
  },
  {
   "cell_type": "code",
   "execution_count": 9,
   "metadata": {},
   "outputs": [],
   "source": [
    "# Get the latest GTFS route - trip data from the KCM FTP server\n",
    "url = 'http://metro.kingcounty.gov/GTFS/google_transit.zip'\n",
    "r = requests.get(url, allow_redirects=True)\n",
    "open('google_transit.zip', 'wb').write(r.content)\n",
    "with ZipFile('google_transit.zip', 'r') as zipObj:\n",
    "    zipObj.extractall('google_transit')\n",
    "gtfs_trips = pd.read_csv('google_transit/trips.txt')\n",
    "gtfs_trips = gtfs_trips[['route_id', 'trip_id', 'trip_short_name']]"
   ]
  },
  {
   "cell_type": "code",
   "execution_count": 10,
   "metadata": {},
   "outputs": [],
   "source": [
    "# Remove duplicate trip locations\n",
    "daily_results.drop_duplicates(subset=['tripid','locationtime'], inplace=True)\n",
    "daily_results.sort_values(by=['tripid','locationtime'], inplace=True)\n",
    "\n",
    "# Offset tripdistance, locationtime, and tripids by 1\n",
    "daily_results['prev_tripdistance'] = 1\n",
    "daily_results['prev_locationtime'] = 1\n",
    "daily_results['prev_tripid'] = 1\n",
    "daily_results['prev_tripdistance'] = daily_results['tripdistance'].shift(1)\n",
    "daily_results['prev_locationtime'] = daily_results['locationtime'].shift(1)\n",
    "daily_results['prev_tripid'] = daily_results['tripid'].shift(1)\n",
    "\n",
    "# Remove NA rows, and rows where tripid is different (last recorded location)\n",
    "daily_results.dropna(inplace=True)\n",
    "daily_results = daily_results[daily_results['tripid'] == daily_results['prev_tripid']]\n",
    "\n",
    "# Calculate average speed between each location bus is tracked at\n",
    "daily_results.loc[:,'dist_diff'] = daily_results['tripdistance'] - daily_results['prev_tripdistance']\n",
    "daily_results.loc[:,'time_diff'] = daily_results['locationtime'] - daily_results['prev_locationtime']\n",
    "daily_results.loc[:,'avg_speed_m_s'] = daily_results['dist_diff'] / daily_results['time_diff']\n",
    "\n",
    "# Remove rows where speed is below 0 and round to one decimal place\n",
    "daily_results = daily_results[daily_results['avg_speed_m_s'] >= 0]\n",
    "daily_results.loc[:,'avg_speed_m_s'] = round(daily_results.loc[:,'avg_speed_m_s'])\n",
    "\n",
    "# Merge with GTFS data to get route_ids for each track\n",
    "daily_results = daily_results.merge(gtfs_trips, left_on='tripid', right_on='trip_id')"
   ]
  },
  {
   "cell_type": "code",
   "execution_count": 11,
   "metadata": {
    "scrolled": true
   },
   "outputs": [],
   "source": [
    "# Concat 1 or 0 to the route id to make it fit with dynamoDB key schema\n",
    "def add_one(element):\n",
    "    return int(str(element) + '1')\n",
    "def add_zero(element):\n",
    "    return int(str(element) + '0')\n",
    "daily_results.loc[daily_results['trip_short_name']=='LOCAL', 'route_id'] = daily_results['route_id'].apply(add_zero)\n",
    "daily_results.loc[daily_results['trip_short_name']=='EXPRESS', 'route_id'] = daily_results['route_id'].apply(add_one)"
   ]
  },
  {
   "cell_type": "code",
   "execution_count": 12,
   "metadata": {},
   "outputs": [],
   "source": [
    "# Convert segment data from json format to tabular, so that it can be used with nn function\n",
    "feature_coords = []\n",
    "route_ids = []\n",
    "seg_ids = []\n",
    "for feature in kcm_routes['features']:\n",
    "    for coord_pair in feature['geometry']['coordinates']:\n",
    "        feature_coords.append(coord_pair)\n",
    "        route_ids.append(feature['route_id'])\n",
    "        seg_ids.append(feature['segment_id'])\n",
    "segments = pd.DataFrame()\n",
    "segments['route_id'] = route_ids\n",
    "segments['segment_id'] = seg_ids\n",
    "segments['lat'] = np.array(feature_coords)[:,0]\n",
    "segments['lon'] = np.array(feature_coords)[:,1]"
   ]
  },
  {
   "cell_type": "code",
   "execution_count": 13,
   "metadata": {},
   "outputs": [],
   "source": [
    "def get_nearest(src_points, candidates, k_neighbors=1):\n",
    "    \"\"\"Find nearest neighbors for all source points from a set of candidate points\"\"\"\n",
    "\n",
    "    # Create tree from the candidate points\n",
    "    tree = BallTree(candidates, leaf_size=15, metric='haversine')\n",
    "\n",
    "    # Find closest points and distances\n",
    "    distances, indices = tree.query(src_points, k=k_neighbors)\n",
    "\n",
    "    # Transpose to get distances and indices into arrays\n",
    "    distances = distances.transpose()\n",
    "    indices = indices.transpose()\n",
    "\n",
    "    # Get closest indices and distances (i.e. array at index 0)\n",
    "    # note: for the second closest points, you would take index 1, etc.\n",
    "    closest_idx = indices[0]\n",
    "    closest_dist = distances[0]\n",
    "\n",
    "    # Return indices and distances\n",
    "    return (closest_idx, closest_dist)"
   ]
  },
  {
   "cell_type": "code",
   "execution_count": 14,
   "metadata": {},
   "outputs": [],
   "source": [
    "final_return = pd.DataFrame()\n",
    "\n",
    "route_list = pd.unique(daily_results['route_id'])\n",
    "for route in route_list:\n",
    "    route_results = daily_results[daily_results['route_id']==route]\n",
    "    route_segments = segments[segments['route_id']==route].reset_index()\n",
    "\n",
    "    # Use closest index returned by get_nearest to join the closest segment info back to each datapoint\n",
    "    if len(route_results) > 0 and len(route_segments) > 0:\n",
    "        result_idxs, result_dists = get_nearest(route_results[['lat', 'lon']], route_segments[['lat', 'lon']])\n",
    "        route_results = route_results.reset_index().join(route_segments.loc[result_idxs,:].reset_index(), rsuffix='_seg')\n",
    "        # Add all of the joined data, and segment data back to a dataframe to use for uploading\n",
    "        final_return = final_return.append(route_results)\n",
    "    else:\n",
    "        # A route was tracked by OneBusAway that does not have an id in the King County Metro shapefile\n",
    "        result_idxs = -1\n",
    "        result_dists = -1"
   ]
  },
  {
   "cell_type": "code",
   "execution_count": 15,
   "metadata": {},
   "outputs": [],
   "source": [
    "to_upload = final_return[['route_id', 'segment_id', 'avg_speed_m_s']]\n",
    "to_upload = to_upload.groupby(['route_id', 'segment_id']).mean().reset_index()\n",
    "to_upload['avg_speed_m_s'] = round(to_upload['avg_speed_m_s'], 1)\n",
    "to_upload['avg_speed_m_s'] = to_upload['avg_speed_m_s'].apply(str)\n",
    "to_upload = to_upload.to_dict(orient='records')"
   ]
  },
  {
   "cell_type": "code",
   "execution_count": 19,
   "metadata": {},
   "outputs": [],
   "source": [
    "# Set up the connection to the Dynamodb database\n",
    "dynamodb = boto3.resource('dynamodb',\n",
    "                         region_name=cfg.REGION,\n",
    "                         aws_access_key_id = cfg.ACCESS_ID,\n",
    "                         aws_secret_access_key = cfg.ACCESS_KEY\n",
    "                         )\n",
    "table = dynamodb.Table('KCM_Bus_Routes_Modified')"
   ]
  },
  {
   "cell_type": "code",
   "execution_count": 22,
   "metadata": {},
   "outputs": [],
   "source": [
    "# Update each route/segment combination with its avg speed for the day\n",
    "for track in to_upload:\n",
    "    response = table.update_item(\n",
    "        Key={\n",
    "            'route_id': track['route_id'],\n",
    "            'segment_id': track['segment_id']\n",
    "        },\n",
    "        UpdateExpression=\"SET avg_speed = :speed, historic_speeds = list_append(historic_speeds, :vals)\",\n",
    "        ExpressionAttributeValues={\n",
    "            ':speed': track['avg_speed_m_s'],\n",
    "            ':vals': [track['avg_speed_m_s']]\n",
    "        }\n",
    "    )"
   ]
  }
 ],
 "metadata": {
  "kernelspec": {
   "display_name": "Python 3",
   "language": "python",
   "name": "python3"
  },
  "language_info": {
   "codemirror_mode": {
    "name": "ipython",
    "version": 3
   },
   "file_extension": ".py",
   "mimetype": "text/x-python",
   "name": "python",
   "nbconvert_exporter": "python",
   "pygments_lexer": "ipython3",
   "version": "3.8.3"
  }
 },
 "nbformat": 4,
 "nbformat_minor": 4
}
