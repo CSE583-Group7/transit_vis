{
 "cells": [
  {
   "cell_type": "code",
   "execution_count": 1,
   "metadata": {},
   "outputs": [],
   "source": [
    "from ipywidgets import *\n",
    "from IPython.display import display, clear_output"
   ]
  },
  {
   "cell_type": "code",
   "execution_count": 3,
   "metadata": {},
   "outputs": [
    {
     "data": {
      "application/vnd.jupyter.widget-view+json": {
       "model_id": "bc19014ddedb426d8cc40078e6cf0ccb",
       "version_major": 2,
       "version_minor": 0
      },
      "text/plain": [
       "VBox(children=(Text(value='', description='Destination: ', layout=Layout(height='auto', width='380px'), placeh…"
      ]
     },
     "metadata": {},
     "output_type": "display_data"
    },
    {
     "data": {
      "application/vnd.jupyter.widget-view+json": {
       "model_id": "d1b2d3e0cbd04a42b58ec4e9a7e96832",
       "version_major": 2,
       "version_minor": 0
      },
      "text/plain": [
       "Output()"
      ]
     },
     "metadata": {},
     "output_type": "display_data"
    }
   ],
   "source": [
    "#creates function which dictates outputs based off textbox intput and button \"clicks\"\n",
    "def btn_execute_app(obj): \n",
    "    with output:\n",
    "        clear_output()\n",
    "        \n",
    "        if len(destination_loc.value) < 1:\n",
    "            raise ValueError(\"Please enter a value for your destination.\")\n",
    "        else:\n",
    "            pass\n",
    "        \n",
    "        if len(commute_time.value) < 1:\n",
    "            raise ValueError(\"Please enter a value for your desired commute time.\")\n",
    "        else:\n",
    "            pass\n",
    "        \n",
    "        if len(min_rent_input_box.value) < 1:\n",
    "            raise ValueError(\"Please enter a value for your minimum desired rent.\")\n",
    "        else:\n",
    "            pass\n",
    "        \n",
    "        if len(max_rent_input_box.value) < 1:\n",
    "            raise ValueError(\"Please enter a value for your maximum desired rent.\")\n",
    "        else:\n",
    "            pass\n",
    "        \n",
    "        if commute_time.value.isdecimal() == False:\n",
    "            raise ValueError(\"Your commute time input is not valid, please enter a whole number.\")\n",
    "        else:\n",
    "            pass\n",
    "        \n",
    "        if min_rent_input_box.value.isdecimal() == False:\n",
    "            raise ValueError(\"Your minimum rent value input is not valid, please enter a whole number.\")\n",
    "        else:\n",
    "            pass\n",
    "        \n",
    "        if max_rent_input_box.value.isdecimal() == False:\n",
    "            raise ValueError(\"Your maximum rent value input is not valid, please enter a whole number.\")\n",
    "        else:\n",
    "            pass     \n",
    "\n",
    "        print(\"The outputs need to be linked as filters for the geoJSON maps\")\n",
    "\n",
    "#creates destination input box\n",
    "destination_loc = widgets.Text( \n",
    "    placeholder='Enter Destination Location',\n",
    "    description='Destination: ',\n",
    "    disabled=False,\n",
    "    style = {'description_width': 'initial'},\n",
    "    layout=Layout(width=\"380px\", height=\"auto\") \n",
    ")\n",
    "\n",
    "#creates commute time input box\n",
    "commute_time = widgets.Text(\n",
    "    placeholder='Enter maximum desired commute time (mins)',\n",
    "    description='Commute Time: ',\n",
    "    disabled=False,\n",
    "    style = {'description_width': 'initial'},\n",
    "    layout=Layout(width=\"380px\", height=\"auto\")\n",
    ")\n",
    "\n",
    "# creates minimum desired rent input box\n",
    "min_rent_input_box = widgets.Text(\n",
    "    placeholder='Enter maximum monthly rent ($)',\n",
    "    description='Rent Minimum:',\n",
    "    disabled=False,\n",
    "    style = {'description_width': 'initial'},\n",
    "    layout=Layout(width=\"380px\", height=\"auto\")\n",
    ")\n",
    "\n",
    "# creates maximum desired rent input box\n",
    "max_rent_input_box = widgets.Text(\n",
    "    placeholder='Enter maximum monthly rent ($)',\n",
    "    description='Rent Maximum:',\n",
    "    disabled=False,\n",
    "    style = {'description_width': 'initial'},\n",
    "    layout=Layout(width=\"380px\", height=\"auto\") # \"40px\"\n",
    ")\n",
    "\n",
    "# creates a clickable button to execute a fucntion based off inputs \n",
    "app_btn = widgets.Button(description='Execute Search', layout=Layout(width=\"380px\", height=\"auto\"))\n",
    "\n",
    "# function which executes upon app_button being clicked executes tests/verifications \n",
    "## as well as filter and output the map\n",
    "    \n",
    "app_btn.on_click(btn_execute_app)\n",
    "\n",
    "# combines all input boxes and widget together\n",
    "input_box = VBox([destination_loc, commute_time, min_rent_input_box, max_rent_input_box, app_btn])\n",
    "\n",
    "# assigns an output widget to display the output from the executed function and allow for overwriting\n",
    "output = widgets.Output()\n",
    "\n",
    "display(input_box)\n",
    "display(output)"
   ]
  },
  {
   "cell_type": "code",
   "execution_count": null,
   "metadata": {},
   "outputs": [],
   "source": []
  }
 ],
 "metadata": {
  "kernelspec": {
   "display_name": "Python 3",
   "language": "python",
   "name": "python3"
  },
  "language_info": {
   "codemirror_mode": {
    "name": "ipython",
    "version": 3
   },
   "file_extension": ".py",
   "mimetype": "text/x-python",
   "name": "python",
   "nbconvert_exporter": "python",
   "pygments_lexer": "ipython3",
   "version": "3.8.5"
  }
 },
 "nbformat": 4,
 "nbformat_minor": 4
}
