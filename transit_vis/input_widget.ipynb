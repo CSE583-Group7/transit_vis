{
 "cells": [
  {
   "cell_type": "code",
   "execution_count": 11,
   "metadata": {},
   "outputs": [],
   "source": [
    "from ipywidgets import *\n",
    "from IPython.display import display, clear_output"
   ]
  },
  {
   "cell_type": "code",
   "execution_count": 18,
   "metadata": {},
   "outputs": [
    {
     "data": {
      "application/vnd.jupyter.widget-view+json": {
       "model_id": "3b2c089437ea4bdeb116ab3e9553fb5b",
       "version_major": 2,
       "version_minor": 0
      },
      "text/plain": [
       "VBox(children=(Text(value='', description='Destination: ', layout=Layout(height='auto', width='380px'), placeh…"
      ]
     },
     "metadata": {},
     "output_type": "display_data"
    },
    {
     "data": {
      "application/vnd.jupyter.widget-view+json": {
       "model_id": "5bc5ca3d613e46e5a784cbd63cf5ff56",
       "version_major": 2,
       "version_minor": 0
      },
      "text/plain": [
       "Output()"
      ]
     },
     "metadata": {},
     "output_type": "display_data"
    }
   ],
   "source": [
    "#creates destination input box\n",
    "destination_loc = widgets.Text( \n",
    "    placeholder='Enter Destination Location',\n",
    "    description='Destination: ',\n",
    "    disabled=False,\n",
    "    style = {'description_width': 'initial'},\n",
    "    layout=Layout(width=\"380px\", height=\"auto\") \n",
    ")\n",
    "\n",
    "#creates commute time input box\n",
    "commute_time = widgets.Text(\n",
    "    placeholder='Enter maximum desired commute time (mins)',\n",
    "    description='Commute Time: ',\n",
    "    disabled=False,\n",
    "    style = {'description_width': 'initial'},\n",
    "    layout=Layout(width=\"380px\", height=\"auto\")\n",
    ")\n",
    "\n",
    "# creates minimum desired rent input box\n",
    "min_rent_input_box = widgets.Text(\n",
    "    placeholder='Enter maximum monthly rent ($)',\n",
    "    description='Rent Minimum:',\n",
    "    disabled=False,\n",
    "    style = {'description_width': 'initial'},\n",
    "    layout=Layout(width=\"380px\", height=\"auto\")\n",
    ")\n",
    "\n",
    "# creates maximum desired rent input box\n",
    "max_rent_input_box = widgets.Text(\n",
    "    placeholder='Enter maximum monthly rent ($)',\n",
    "    description='Rent Maximum:',\n",
    "    disabled=False,\n",
    "    style = {'description_width': 'initial'},\n",
    "    layout=Layout(width=\"380px\", height=\"auto\") # \"40px\"\n",
    ")\n",
    "\n",
    "# creates a clickable button to execute a fucntion based off inputs \n",
    "app_btn = widgets.Button(description='Execute Search', layout=Layout(width=\"380px\", height=\"auto\"))\n",
    "\n",
    "# function which executes upon app_button being clicked, will perform input tests/verifications \n",
    "## as well as filter and output the map\n",
    "def btn_execute_app(obj): \n",
    "    with output:\n",
    "        clear_output()\n",
    "        print(destination_loc.value, commute_time.value, min_rent_input_box.value, max_rent_input_box.value, \\\n",
    "              \", these objects based off the inputs can now be used to filter the map\")\n",
    "    \n",
    "app_btn.on_click(btn_execute_app)\n",
    "\n",
    "# combines all input boxes and widget together\n",
    "input_box = VBox([destination_loc, commute_time, min_rent_input_box, max_rent_input_box, app_btn])\n",
    "\n",
    "# assigns an output widget to display the output from the executed function and allow for overwriting\n",
    "output = widgets.Output()\n",
    "\n",
    "display(input_box)\n",
    "display(output)"
   ]
  },
  {
   "cell_type": "code",
   "execution_count": null,
   "metadata": {},
   "outputs": [],
   "source": []
  }
 ],
 "metadata": {
  "kernelspec": {
   "display_name": "Python 3",
   "language": "python",
   "name": "python3"
  },
  "language_info": {
   "codemirror_mode": {
    "name": "ipython",
    "version": 3
   },
   "file_extension": ".py",
   "mimetype": "text/x-python",
   "name": "python",
   "nbconvert_exporter": "python",
   "pygments_lexer": "ipython3",
   "version": "3.8.2"
  }
 },
 "nbformat": 4,
 "nbformat_minor": 4
}
